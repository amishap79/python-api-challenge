{
 "cells": [
  {
   "cell_type": "markdown",
   "metadata": {},
   "source": [
    "# VacationPy\n",
    "----\n",
    "\n",
    "#### Note\n",
    "* Instructions have been included for each segment. You do not have to follow them exactly, but they are included to help you think through the steps."
   ]
  },
  {
   "cell_type": "code",
   "execution_count": 1,
   "metadata": {},
   "outputs": [],
   "source": [
    "# Dependencies and Setup\n",
    "import matplotlib.pyplot as plt\n",
    "import pandas as pd\n",
    "import numpy as np\n",
    "import requests\n",
    "import gmaps\n",
    "import os\n",
    "import json\n",
    "\n",
    "# Import API key\n",
    "from api_keys import g_key\n"
   ]
  },
  {
   "cell_type": "markdown",
   "metadata": {},
   "source": [
    "### Store Part I results into DataFrame\n",
    "* Load the csv exported in Part I to a DataFrame"
   ]
  },
  {
   "cell_type": "code",
   "execution_count": 2,
   "metadata": {},
   "outputs": [
    {
     "data": {
      "text/html": [
       "<div>\n",
       "<style scoped>\n",
       "    .dataframe tbody tr th:only-of-type {\n",
       "        vertical-align: middle;\n",
       "    }\n",
       "\n",
       "    .dataframe tbody tr th {\n",
       "        vertical-align: top;\n",
       "    }\n",
       "\n",
       "    .dataframe thead th {\n",
       "        text-align: right;\n",
       "    }\n",
       "</style>\n",
       "<table border=\"1\" class=\"dataframe\">\n",
       "  <thead>\n",
       "    <tr style=\"text-align: right;\">\n",
       "      <th></th>\n",
       "      <th>city</th>\n",
       "      <th>latitude</th>\n",
       "      <th>longitude</th>\n",
       "      <th>temperature</th>\n",
       "      <th>humidity</th>\n",
       "      <th>cloudiness</th>\n",
       "      <th>wind speed</th>\n",
       "    </tr>\n",
       "  </thead>\n",
       "  <tbody>\n",
       "    <tr>\n",
       "      <td>0</td>\n",
       "      <td>nikolskoye</td>\n",
       "      <td>59.70</td>\n",
       "      <td>30.79</td>\n",
       "      <td>27.32</td>\n",
       "      <td>39</td>\n",
       "      <td>few clouds</td>\n",
       "      <td>24.61</td>\n",
       "    </tr>\n",
       "    <tr>\n",
       "      <td>1</td>\n",
       "      <td>tuktoyaktuk</td>\n",
       "      <td>69.45</td>\n",
       "      <td>-133.04</td>\n",
       "      <td>21.20</td>\n",
       "      <td>85</td>\n",
       "      <td>light snow</td>\n",
       "      <td>28.86</td>\n",
       "    </tr>\n",
       "    <tr>\n",
       "      <td>2</td>\n",
       "      <td>nizhniy tsasuchey</td>\n",
       "      <td>50.52</td>\n",
       "      <td>115.13</td>\n",
       "      <td>12.18</td>\n",
       "      <td>69</td>\n",
       "      <td>clear sky</td>\n",
       "      <td>3.38</td>\n",
       "    </tr>\n",
       "    <tr>\n",
       "      <td>3</td>\n",
       "      <td>ancud</td>\n",
       "      <td>-41.87</td>\n",
       "      <td>-73.82</td>\n",
       "      <td>60.80</td>\n",
       "      <td>59</td>\n",
       "      <td>few clouds</td>\n",
       "      <td>6.93</td>\n",
       "    </tr>\n",
       "    <tr>\n",
       "      <td>4</td>\n",
       "      <td>vaini</td>\n",
       "      <td>-21.20</td>\n",
       "      <td>-175.20</td>\n",
       "      <td>80.60</td>\n",
       "      <td>88</td>\n",
       "      <td>broken clouds</td>\n",
       "      <td>10.29</td>\n",
       "    </tr>\n",
       "  </tbody>\n",
       "</table>\n",
       "</div>"
      ],
      "text/plain": [
       "                city  latitude  longitude  temperature  humidity  \\\n",
       "0         nikolskoye     59.70      30.79        27.32        39   \n",
       "1        tuktoyaktuk     69.45    -133.04        21.20        85   \n",
       "2  nizhniy tsasuchey     50.52     115.13        12.18        69   \n",
       "3              ancud    -41.87     -73.82        60.80        59   \n",
       "4              vaini    -21.20    -175.20        80.60        88   \n",
       "\n",
       "      cloudiness  wind speed  \n",
       "0     few clouds       24.61  \n",
       "1     light snow       28.86  \n",
       "2      clear sky        3.38  \n",
       "3     few clouds        6.93  \n",
       "4  broken clouds       10.29  "
      ]
     },
     "execution_count": 2,
     "metadata": {},
     "output_type": "execute_result"
    }
   ],
   "source": [
    "weather_data_df = pd.read_csv(\"weather_data_results.csv\")\n",
    "weather_data_df.head()\n"
   ]
  },
  {
   "cell_type": "markdown",
   "metadata": {},
   "source": [
    "### Humidity Heatmap\n",
    "* Configure gmaps.\n",
    "* Use the Lat and Lng as locations and Humidity as the weight.\n",
    "* Add Heatmap layer to map."
   ]
  },
  {
   "cell_type": "code",
   "execution_count": 3,
   "metadata": {},
   "outputs": [],
   "source": [
    "locations = []\n",
    "weights = []\n",
    "\n",
    "for index, row  in weather_data_df.iterrows():\n",
    "    \n",
    "    try:\n",
    "        locations.append([row.loc[\"latitude\"], row.loc[\"longitude\"]])\n",
    "        weights.append(float(row[\"humidity\"]))\n",
    "        \n",
    "    except:\n",
    "        print(f\"row[2], row[3], row[5] ignored\")\n",
    "        \n",
    "# print(locations)\n",
    "# print(weights)"
   ]
  },
  {
   "cell_type": "code",
   "execution_count": 4,
   "metadata": {},
   "outputs": [
    {
     "data": {
      "application/vnd.jupyter.widget-view+json": {
       "model_id": "5247c3f0393a4c9a9a63c8893b72a0a5",
       "version_major": 2,
       "version_minor": 0
      },
      "text/plain": [
       "Figure(layout=FigureLayout(border='1px solid black', height='500px', padding='3px', width='800px'))"
      ]
     },
     "metadata": {},
     "output_type": "display_data"
    }
   ],
   "source": [
    "gmaps.configure(api_key=g_key)\n",
    "\n",
    "fig = gmaps.figure()\n",
    "fig = gmaps.figure(center=(46.0, -5.0), zoom_level=1)\n",
    "fig = gmaps.figure(layout={\n",
    "        'width': '800px',\n",
    "        'height': '500px',\n",
    "        'padding': '3px',\n",
    "        'border': '1px solid black'\n",
    "})\n",
    "heat_layer = gmaps.heatmap_layer(locations, weights=weights)\n",
    "fig.add_layer(heat_layer)\n",
    "fig"
   ]
  },
  {
   "cell_type": "markdown",
   "metadata": {},
   "source": [
    "### Create new DataFrame fitting weather criteria\n",
    "* Narrow down the cities to fit weather conditions.\n",
    "* Drop any rows will null values."
   ]
  },
  {
   "cell_type": "code",
   "execution_count": 5,
   "metadata": {},
   "outputs": [
    {
     "name": "stdout",
     "output_type": "stream",
     "text": [
      "[city           hambantota\n",
      "latitude             6.12\n",
      "longitude           81.12\n",
      "temperature          78.8\n",
      "humidity               88\n",
      "cloudiness      clear sky\n",
      "wind speed           2.24\n",
      "Name: 132, dtype: object, city               pecos\n",
      "latitude           31.42\n",
      "longitude        -103.49\n",
      "temperature        70.05\n",
      "humidity              37\n",
      "cloudiness     clear sky\n",
      "wind speed          4.05\n",
      "Name: 169, dtype: object, city               azare\n",
      "latitude           11.68\n",
      "longitude          10.19\n",
      "temperature        77.16\n",
      "humidity              14\n",
      "cloudiness     clear sky\n",
      "wind speed          7.87\n",
      "Name: 170, dtype: object, city               avera\n",
      "latitude           33.19\n",
      "longitude         -82.53\n",
      "temperature        79.38\n",
      "humidity              47\n",
      "cloudiness     clear sky\n",
      "wind speed          3.36\n",
      "Name: 177, dtype: object, city           trincomalee\n",
      "latitude              8.57\n",
      "longitude            81.23\n",
      "temperature          71.04\n",
      "humidity                95\n",
      "cloudiness       clear sky\n",
      "wind speed            2.15\n",
      "Name: 252, dtype: object, city              ixtapa\n",
      "latitude            20.7\n",
      "longitude         -105.2\n",
      "temperature         78.8\n",
      "humidity              69\n",
      "cloudiness     clear sky\n",
      "wind speed          9.17\n",
      "Name: 292, dtype: object, city           pascagoula\n",
      "latitude            30.37\n",
      "longitude          -88.56\n",
      "temperature         79.74\n",
      "humidity               54\n",
      "cloudiness      clear sky\n",
      "wind speed           5.82\n",
      "Name: 389, dtype: object, city           srikakulam\n",
      "latitude             18.3\n",
      "longitude            83.9\n",
      "temperature         74.64\n",
      "humidity               81\n",
      "cloudiness      clear sky\n",
      "wind speed            1.7\n",
      "Name: 466, dtype: object, city           lumberton\n",
      "latitude           34.62\n",
      "longitude         -79.01\n",
      "temperature        70.41\n",
      "humidity              28\n",
      "cloudiness     clear sky\n",
      "wind speed          3.36\n",
      "Name: 541, dtype: object]\n"
     ]
    }
   ],
   "source": [
    "vacation_spots = []\n",
    "\n",
    "for index, row  in weather_data_df.iterrows():\n",
    "    \n",
    "    if row.loc[\"temperature\"]  >= 70 and row.loc[\"temperature\"] <= 80:\n",
    "        if row.loc[\"wind speed\"] <= 10:\n",
    "            if row.loc[\"cloudiness\"] == \"clear sky\":\n",
    "                vacation_spots.append(row)\n",
    "        \n",
    "print(vacation_spots)\n",
    "    "
   ]
  },
  {
   "cell_type": "markdown",
   "metadata": {},
   "source": [
    "### Hotel Map\n",
    "* Store into variable named `hotel_df`.\n",
    "* Add a \"Hotel Name\" column to the DataFrame.\n",
    "* Set parameters to search for hotels with 5000 meters.\n",
    "* Hit the Google Places API for each city's coordinates.\n",
    "* Store the first Hotel result into the DataFrame.\n",
    "* Plot markers on top of the heatmap."
   ]
  },
  {
   "cell_type": "code",
   "execution_count": 6,
   "metadata": {},
   "outputs": [
    {
     "name": "stdout",
     "output_type": "stream",
     "text": [
      "[{'location': (6.130587499999999, 81.1251296), 'name': 'Bungalow 63', 'city': 'No 63 Barrak Street, Hambantota'}, {'location': (31.4284957, -103.4860338), 'name': 'Knights Inn Pecos', 'city': '1000 East 3rd Street, Pecos'}, {'location': (11.674166, 10.191111), 'name': 'Guaranty Trust Bank PLC', 'city': 'No. 231, Egbeda - Idimu Road, Alimosho L.g.a, Egbeda, Lagos'}, {'location': (33.19403539999999, -82.5270728), 'name': 'Georgia Life and Health Agency Inc', 'city': 'Avera'}, {'location': (8.570033, 81.215834), 'name': 'Welcombe Hotel', 'city': \"66, Orr's Hill Centre Rd, Trincomalee\"}, {'location': (20.6846539, -105.2391801), 'name': 'Container Inn Puerto Vallarta', 'city': 'Carretera a, Puerto Vallarta - Tepic 4634, Guadalupe Victoria, Puerto Vallarta'}, {'location': (30.372352, -88.5327102), 'name': 'Regency Inn', 'city': '3800 Hospital Road, Pascagoula'}, {'location': (18.2948077, 83.89617199999999), 'name': 'Jeans Park', 'city': 'GT Road, Chinna Bharatham Colony, Srikakulam'}, {'location': (34.6483317, -79.01448440000001), 'name': 'Country Inn & Suites by Radisson, Lumberton, NC', 'city': '3010 North Roberts Avenue, Lumberton'}]\n"
     ]
    }
   ],
   "source": [
    "hotel_details = {}\n",
    "hotel_map_details = []\n",
    "for spot in vacation_spots:\n",
    "\n",
    "    query_url = \"https://maps.googleapis.com/maps/api/place/nearbysearch/json?location=\" + str(spot.loc[\"latitude\"]) + \",\" + str(spot.loc[\"longitude\"]) + \"&radius=5000&type=hotel&key=\" + g_key\n",
    "    \n",
    "    hotels = requests.get(query_url)\n",
    "    hotels_json = hotels.json()\n",
    "    include = True\n",
    "    \n",
    "    for key in hotels_json[\"results\"]:\n",
    "        if include and key['name'] != key['vicinity']:\n",
    "            hotel_details = {\"location\": (key['geometry']['location']['lat'], \n",
    "                                      key['geometry']['location']['lng']), 'name': key['name'],\n",
    "                                      'city': key['vicinity'] \n",
    "                            }\n",
    "            hotel_map_details.append(hotel_details)\n",
    "            include = False\n",
    "\n",
    "            \n",
    "print(hotel_map_details)        "
   ]
  },
  {
   "cell_type": "code",
   "execution_count": 7,
   "metadata": {},
   "outputs": [
    {
     "data": {
      "application/vnd.jupyter.widget-view+json": {
       "model_id": "3409069ef209460b9d35bfd0cc434dc5",
       "version_major": 2,
       "version_minor": 0
      },
      "text/plain": [
       "Figure(layout=FigureLayout(border='1px solid black', height='500px', padding='3px', width='800px'))"
      ]
     },
     "metadata": {},
     "output_type": "display_data"
    }
   ],
   "source": [
    "\n",
    "hotel_locations = [hotel[\"location\"] for hotel in hotel_map_details]\n",
    "# print(hotel_locations)\n",
    "info_box_template = \"\"\"\n",
    "<dl>\n",
    "<dt>Name</dt><dd>{name}</dd>\n",
    "<dt>Address</dt><dd>{city}</dd>\n",
    "</dl>\n",
    "\"\"\"\n",
    "hotel_info = [info_box_template.format(**hotel) for hotel in hotel_map_details]\n",
    "# print(hotel_info)\n",
    "\n",
    "fig = gmaps.figure()\n",
    "fig = gmaps.figure(center=(46.0, -5.0), zoom_level=1)\n",
    "fig = gmaps.figure(layout={\n",
    "        'width': '800px',\n",
    "        'height': '500px',\n",
    "        'padding': '3px',\n",
    "        'border': '1px solid black'\n",
    "})\n",
    "heat_layer = gmaps.heatmap_layer(locations, weights=weights)\n",
    "fig.add_layer(heat_layer)\n",
    "marker_layer = gmaps.marker_layer(hotel_locations, info_box_content = hotel_info)\n",
    "fig.add_layer(marker_layer)\n",
    "fig"
   ]
  },
  {
   "cell_type": "code",
   "execution_count": null,
   "metadata": {},
   "outputs": [],
   "source": [
    "\n"
   ]
  },
  {
   "cell_type": "code",
   "execution_count": null,
   "metadata": {},
   "outputs": [],
   "source": [
    "# NOTE: Do not change any of the code in this cell\n",
    "\n",
    "# Using the template add the hotel marks to the heatmap\n",
    "info_box_template = \"\"\"\n",
    "<dl>\n",
    "<dt>Name</dt><dd>{Hotel Name}</dd>\n",
    "<dt>City</dt><dd>{City}</dd>\n",
    "<dt>Country</dt><dd>{Country}</dd>\n",
    "</dl>\n",
    "\"\"\"\n",
    "# Store the DataFrame Row\n",
    "# NOTE: be sure to update with your DataFrame name\n",
    "hotel_info = [info_box_template.format(**row) for index, row in narrowed_city_df.iterrows()]\n",
    "locations = hotel_df[[\"Lat\", \"Lng\"]]"
   ]
  },
  {
   "cell_type": "code",
   "execution_count": null,
   "metadata": {},
   "outputs": [],
   "source": [
    "# Add marker layer ontop of heat map\n",
    "\n",
    "\n",
    "# Display Map"
   ]
  }
 ],
 "metadata": {
  "kernelspec": {
   "display_name": "Python 3",
   "language": "python",
   "name": "python3"
  },
  "language_info": {
   "codemirror_mode": {
    "name": "ipython",
    "version": 3
   },
   "file_extension": ".py",
   "mimetype": "text/x-python",
   "name": "python",
   "nbconvert_exporter": "python",
   "pygments_lexer": "ipython3",
   "version": "3.7.4"
  },
  "latex_envs": {
   "LaTeX_envs_menu_present": true,
   "autoclose": false,
   "autocomplete": true,
   "bibliofile": "biblio.bib",
   "cite_by": "apalike",
   "current_citInitial": 1,
   "eqLabelWithNumbers": true,
   "eqNumInitial": 1,
   "hotkeys": {
    "equation": "Ctrl-E",
    "itemize": "Ctrl-I"
   },
   "labels_anchors": false,
   "latex_user_defs": false,
   "report_style_numbering": false,
   "user_envs_cfg": false
  }
 },
 "nbformat": 4,
 "nbformat_minor": 2
}
